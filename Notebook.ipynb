{
 "cells": [
  {
   "cell_type": "code",
   "execution_count": null,
   "id": "10095e95",
   "metadata": {},
   "outputs": [],
   "source": [
    "# This code can be used to add a folder in the repository to the Python import\n",
    "# path, irrespective of whether the notebook is being run in colab or Jupyter.\n",
    "# (C) 2020 Abe Leite, Indiana University Bloomington\n",
    "# This code block is released under MIT license. Feel free to make use of\n",
    "# this code in any projects so long as you reproduce this text.\n",
    "\n",
    "import os\n",
    "import sys\n",
    "import subprocess\n",
    "\n",
    "repo_URL = 'https://github.com/ajleite/discrete-rl-exploration'\n",
    "repo_name = repo_URL.split('/')[-1]\n",
    "# top level of repository. --AL Mar 10 2022\n",
    "code_folder = ''\n",
    "\n",
    "try:\n",
    "  repo_path = subprocess.check_output('git rev-parse --show-toplevel', shell=True).decode().strip()\n",
    "except subprocess.CalledProcessError:\n",
    "  os.system(f'git clone {repo_URL} --depth 1')\n",
    "  repo_path = os.path.abspath(repo_name)\n",
    "\n",
    "code_path = os.path.join(repo_path, code_folder)\n",
    "sys.path.append(code_path)\n",
    "print(f'Loading code from {code_path}')"
   ]
  },
  {
   "cell_type": "code",
   "execution_count": null,
   "id": "09d69c0e",
   "metadata": {},
   "outputs": [],
   "source": [
    "# don't forget the boilerplate --AL Mar 10 2022\n",
    "!apt-get update\n",
    "!apt-get install python-opengl -y\n",
    "!apt install xvfb -y\n",
    "!pip install pyvirtualdisplay\n",
    "!pip install piglet\n",
    "!pip install gym\n",
    "!pip install gym[atari]\n",
    "!pip install pybullet\n",
    "!git clone https://github.com/benelot/pybullet-gym.git\n",
    "cd /content/pybullet-gym/\n",
    "!pip install -e .\n",
    "import matplotlib\n",
    "%matplotlib inline"
   ]
  },
  {
   "cell_type": "code",
   "execution_count": null,
   "id": "e29ec82b",
   "metadata": {},
   "outputs": [],
   "source": [
    "# we'll go to the repo path in order to work with saved models. --AL Mar 10 2022\n",
    "os.chdir(code_path)\n",
    "\n",
    "import main"
   ]
  },
  {
   "cell_type": "code",
   "execution_count": null,
   "id": "0a7cb0c4",
   "metadata": {},
   "outputs": [],
   "source": [
    "# already done, but you can totally uncomment this if you have a few days of GPU time to burn\n",
    "# main.generate_agents()"
   ]
  },
  {
   "cell_type": "code",
   "execution_count": null,
   "id": "b50c80ad",
   "metadata": {},
   "outputs": [],
   "source": [
    "main.evaluate_agents()"
   ]
  },
  {
   "cell_type": "code",
   "execution_count": null,
   "id": "ef33d28f",
   "metadata": {},
   "outputs": [],
   "source": [
    "main.generate_plots()\n",
    "\n",
    "# in case we're beholden to the corporate overlords\n",
    "try:\n",
    "    from google.colab import files\n",
    "    !zip -r plots.zip plots/\n",
    "    files.download('plots.zip')\n",
    "    !rm plots.zip\n",
    "except ImportError:\n",
    "    print(\"I'm so glad you're running this locally! Please see the generated plot files here: \"+os.path.join(code_path, 'plots'))"
   ]
  }
 ],
 "metadata": {
  "kernelspec": {
   "display_name": "Python 3 (ipykernel)",
   "language": "python",
   "name": "python3"
  },
  "language_info": {
   "codemirror_mode": {
    "name": "ipython",
    "version": 3
   },
   "file_extension": ".py",
   "mimetype": "text/x-python",
   "name": "python",
   "nbconvert_exporter": "python",
   "pygments_lexer": "ipython3",
   "version": "3.10.4"
  }
 },
 "nbformat": 4,
 "nbformat_minor": 5
}
